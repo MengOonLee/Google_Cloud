{
 "cells": [
  {
   "cell_type": "markdown",
   "id": "geographic-penny",
   "metadata": {},
   "source": [
    "# Generate service account key"
   ]
  },
  {
   "cell_type": "code",
   "execution_count": 1,
   "id": "guided-delicious",
   "metadata": {},
   "outputs": [
    {
     "name": "stdout",
     "output_type": "stream",
     "text": [
      "bindings:\n",
      "- members:\n",
      "  - serviceAccount:service-615531121754@compute-system.iam.gserviceaccount.com\n",
      "  role: roles/compute.serviceAgent\n",
      "- members:\n",
      "  - serviceAccount:service-615531121754@dataproc-accounts.iam.gserviceaccount.com\n",
      "  role: roles/dataproc.serviceAgent\n",
      "- members:\n",
      "  - serviceAccount:615531121754-compute@developer.gserviceaccount.com\n",
      "  - serviceAccount:615531121754@cloudservices.gserviceaccount.com\n",
      "  role: roles/editor\n",
      "- members:\n",
      "  - serviceAccount:service-615531121754@gcp-sa-notebooks.iam.gserviceaccount.com\n",
      "  role: roles/notebooks.serviceAgent\n",
      "- members:\n",
      "  - serviceAccount:lemon79@healthy-spark-305704.iam.gserviceaccount.com\n",
      "  - user:lemon79@siswa.um.edu.my\n",
      "  role: roles/owner\n",
      "etag: BwW8ZLWnx7c=\n",
      "version: 1\n"
     ]
    },
    {
     "name": "stderr",
     "output_type": "stream",
     "text": [
      "Created service account [lemon79].\n",
      "Updated IAM policy for project [healthy-spark-305704].\n",
      "created key [73d0693bc206468e92c2b9c81baa27897441ec60] of type [json] as [/home/enlinea/.GCP_SA/lemon79_key.json] for [lemon79@healthy-spark-305704.iam.gserviceaccount.com]\n"
     ]
    }
   ],
   "source": [
    "%%bash\n",
    "\n",
    "NAME=lemon79\n",
    "PROJECT_ID=healthy-spark-305704\n",
    "FILE_NAME=\"/home/enlinea/.GCP_SA/lemon79_key.json\"\n",
    "\n",
    "gcloud iam service-accounts create $NAME\n",
    "gcloud projects add-iam-policy-binding $PROJECT_ID --member=\"serviceAccount:$NAME@$PROJECT_ID.iam.gserviceaccount.com\" --role=\"roles/owner\"\n",
    "gcloud iam service-accounts keys create $FILE_NAME --iam-account=$NAME@$PROJECT_ID.iam.gserviceaccount.com"
   ]
  }
 ],
 "metadata": {
  "kernelspec": {
   "display_name": "Python 3",
   "language": "python",
   "name": "python3"
  },
  "language_info": {
   "codemirror_mode": {
    "name": "ipython",
    "version": 3
   },
   "file_extension": ".py",
   "mimetype": "text/x-python",
   "name": "python",
   "nbconvert_exporter": "python",
   "pygments_lexer": "ipython3",
   "version": "3.8.5"
  }
 },
 "nbformat": 4,
 "nbformat_minor": 5
}
